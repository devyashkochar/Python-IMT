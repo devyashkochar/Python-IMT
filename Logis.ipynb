{
 "cells": [
  {
   "cell_type": "code",
   "execution_count": 1,
   "metadata": {},
   "outputs": [],
   "source": [
    "import numpy as np\n",
    "import pandas as pd"
   ]
  },
  {
   "cell_type": "code",
   "execution_count": 2,
   "metadata": {},
   "outputs": [],
   "source": [
    "df = pd.read_csv(\"Credit.csv\")"
   ]
  },
  {
   "cell_type": "code",
   "execution_count": 3,
   "metadata": {},
   "outputs": [
    {
     "data": {
      "text/html": [
       "<div>\n",
       "<style scoped>\n",
       "    .dataframe tbody tr th:only-of-type {\n",
       "        vertical-align: middle;\n",
       "    }\n",
       "\n",
       "    .dataframe tbody tr th {\n",
       "        vertical-align: top;\n",
       "    }\n",
       "\n",
       "    .dataframe thead th {\n",
       "        text-align: right;\n",
       "    }\n",
       "</style>\n",
       "<table border=\"1\" class=\"dataframe\">\n",
       "  <thead>\n",
       "    <tr style=\"text-align: right;\">\n",
       "      <th></th>\n",
       "      <th>checkin_acc</th>\n",
       "      <th>duration</th>\n",
       "      <th>credit_history</th>\n",
       "      <th>amount</th>\n",
       "      <th>savings_acc</th>\n",
       "      <th>present_emp_since</th>\n",
       "      <th>inst_rate</th>\n",
       "      <th>personal_status</th>\n",
       "      <th>residing_since</th>\n",
       "      <th>age</th>\n",
       "      <th>inst_plans</th>\n",
       "      <th>num_credits</th>\n",
       "      <th>job</th>\n",
       "      <th>status</th>\n",
       "    </tr>\n",
       "  </thead>\n",
       "  <tbody>\n",
       "    <tr>\n",
       "      <th>0</th>\n",
       "      <td>A11</td>\n",
       "      <td>6</td>\n",
       "      <td>A34</td>\n",
       "      <td>1169</td>\n",
       "      <td>A65</td>\n",
       "      <td>A75</td>\n",
       "      <td>4</td>\n",
       "      <td>A93</td>\n",
       "      <td>4</td>\n",
       "      <td>67</td>\n",
       "      <td>A143</td>\n",
       "      <td>2</td>\n",
       "      <td>A173</td>\n",
       "      <td>0</td>\n",
       "    </tr>\n",
       "    <tr>\n",
       "      <th>1</th>\n",
       "      <td>A12</td>\n",
       "      <td>48</td>\n",
       "      <td>A32</td>\n",
       "      <td>5951</td>\n",
       "      <td>A61</td>\n",
       "      <td>A73</td>\n",
       "      <td>2</td>\n",
       "      <td>A92</td>\n",
       "      <td>2</td>\n",
       "      <td>22</td>\n",
       "      <td>A143</td>\n",
       "      <td>1</td>\n",
       "      <td>A173</td>\n",
       "      <td>1</td>\n",
       "    </tr>\n",
       "    <tr>\n",
       "      <th>2</th>\n",
       "      <td>A14</td>\n",
       "      <td>12</td>\n",
       "      <td>A34</td>\n",
       "      <td>2096</td>\n",
       "      <td>A61</td>\n",
       "      <td>A74</td>\n",
       "      <td>2</td>\n",
       "      <td>A93</td>\n",
       "      <td>3</td>\n",
       "      <td>49</td>\n",
       "      <td>A143</td>\n",
       "      <td>1</td>\n",
       "      <td>A172</td>\n",
       "      <td>0</td>\n",
       "    </tr>\n",
       "    <tr>\n",
       "      <th>3</th>\n",
       "      <td>A11</td>\n",
       "      <td>42</td>\n",
       "      <td>A32</td>\n",
       "      <td>7882</td>\n",
       "      <td>A61</td>\n",
       "      <td>A74</td>\n",
       "      <td>2</td>\n",
       "      <td>A93</td>\n",
       "      <td>4</td>\n",
       "      <td>45</td>\n",
       "      <td>A143</td>\n",
       "      <td>1</td>\n",
       "      <td>A173</td>\n",
       "      <td>0</td>\n",
       "    </tr>\n",
       "    <tr>\n",
       "      <th>4</th>\n",
       "      <td>A11</td>\n",
       "      <td>24</td>\n",
       "      <td>A33</td>\n",
       "      <td>4870</td>\n",
       "      <td>A61</td>\n",
       "      <td>A73</td>\n",
       "      <td>3</td>\n",
       "      <td>A93</td>\n",
       "      <td>4</td>\n",
       "      <td>53</td>\n",
       "      <td>A143</td>\n",
       "      <td>2</td>\n",
       "      <td>A173</td>\n",
       "      <td>1</td>\n",
       "    </tr>\n",
       "  </tbody>\n",
       "</table>\n",
       "</div>"
      ],
      "text/plain": [
       "  checkin_acc  duration credit_history  amount savings_acc present_emp_since  \\\n",
       "0         A11         6            A34    1169         A65               A75   \n",
       "1         A12        48            A32    5951         A61               A73   \n",
       "2         A14        12            A34    2096         A61               A74   \n",
       "3         A11        42            A32    7882         A61               A74   \n",
       "4         A11        24            A33    4870         A61               A73   \n",
       "\n",
       "   inst_rate personal_status  residing_since  age inst_plans  num_credits  \\\n",
       "0          4             A93               4   67       A143            2   \n",
       "1          2             A92               2   22       A143            1   \n",
       "2          2             A93               3   49       A143            1   \n",
       "3          2             A93               4   45       A143            1   \n",
       "4          3             A93               4   53       A143            2   \n",
       "\n",
       "    job  status  \n",
       "0  A173       0  \n",
       "1  A173       1  \n",
       "2  A172       0  \n",
       "3  A173       0  \n",
       "4  A173       1  "
      ]
     },
     "execution_count": 3,
     "metadata": {},
     "output_type": "execute_result"
    }
   ],
   "source": [
    "df.head(5)"
   ]
  },
  {
   "cell_type": "code",
   "execution_count": 4,
   "metadata": {},
   "outputs": [
    {
     "name": "stdout",
     "output_type": "stream",
     "text": [
      "<class 'pandas.core.frame.DataFrame'>\n",
      "RangeIndex: 1000 entries, 0 to 999\n",
      "Data columns (total 14 columns):\n",
      " #   Column             Non-Null Count  Dtype \n",
      "---  ------             --------------  ----- \n",
      " 0   checkin_acc        1000 non-null   object\n",
      " 1   duration           1000 non-null   int64 \n",
      " 2   credit_history     1000 non-null   object\n",
      " 3   amount             1000 non-null   int64 \n",
      " 4   savings_acc        1000 non-null   object\n",
      " 5   present_emp_since  1000 non-null   object\n",
      " 6   inst_rate          1000 non-null   int64 \n",
      " 7   personal_status    1000 non-null   object\n",
      " 8   residing_since     1000 non-null   int64 \n",
      " 9   age                1000 non-null   int64 \n",
      " 10  inst_plans         1000 non-null   object\n",
      " 11  num_credits        1000 non-null   int64 \n",
      " 12  job                1000 non-null   object\n",
      " 13  status             1000 non-null   int64 \n",
      "dtypes: int64(7), object(7)\n",
      "memory usage: 109.5+ KB\n"
     ]
    }
   ],
   "source": [
    "df.info()"
   ]
  },
  {
   "cell_type": "code",
   "execution_count": 5,
   "metadata": {},
   "outputs": [
    {
     "data": {
      "text/plain": [
       "0    700\n",
       "1    300\n",
       "Name: status, dtype: int64"
      ]
     },
     "execution_count": 5,
     "metadata": {},
     "output_type": "execute_result"
    }
   ],
   "source": [
    "df.status.value_counts()"
   ]
  },
  {
   "cell_type": "code",
   "execution_count": 9,
   "metadata": {},
   "outputs": [],
   "source": [
    "X_features = list( df.columns )"
   ]
  },
  {
   "cell_type": "code",
   "execution_count": 10,
   "metadata": {},
   "outputs": [
    {
     "data": {
      "text/plain": [
       "['checkin_acc',\n",
       " 'duration',\n",
       " 'credit_history',\n",
       " 'amount',\n",
       " 'savings_acc',\n",
       " 'present_emp_since',\n",
       " 'inst_rate',\n",
       " 'personal_status',\n",
       " 'residing_since',\n",
       " 'age',\n",
       " 'inst_plans',\n",
       " 'num_credits',\n",
       " 'job',\n",
       " 'status']"
      ]
     },
     "execution_count": 10,
     "metadata": {},
     "output_type": "execute_result"
    }
   ],
   "source": [
    "X_features"
   ]
  },
  {
   "cell_type": "code",
   "execution_count": 11,
   "metadata": {},
   "outputs": [
    {
     "data": {
      "text/plain": [
       "['checkin_acc',\n",
       " 'duration',\n",
       " 'credit_history',\n",
       " 'amount',\n",
       " 'savings_acc',\n",
       " 'present_emp_since',\n",
       " 'inst_rate',\n",
       " 'personal_status',\n",
       " 'residing_since',\n",
       " 'age',\n",
       " 'inst_plans',\n",
       " 'num_credits',\n",
       " 'job']"
      ]
     },
     "execution_count": 11,
     "metadata": {},
     "output_type": "execute_result"
    }
   ],
   "source": [
    "X_features.remove( 'status' )\n",
    "X_features"
   ]
  },
  {
   "cell_type": "code",
   "execution_count": 12,
   "metadata": {},
   "outputs": [],
   "source": [
    "X_features = ['checkin_acc',\n",
    " 'credit_history',\n",
    " 'savings_acc',\n",
    " 'present_emp_since',\n",
    " 'personal_status',\n",
    " 'inst_plans',\n",
    " 'job']"
   ]
  },
  {
   "cell_type": "code",
   "execution_count": 14,
   "metadata": {},
   "outputs": [],
   "source": [
    "encoded_credit_df = pd.get_dummies( df[X_features], drop_first = True )"
   ]
  },
  {
   "cell_type": "code",
   "execution_count": 15,
   "metadata": {},
   "outputs": [],
   "source": [
    "import statsmodels.api as sm\n",
    "Y = df.status\n",
    "X = sm.add_constant( encoded_credit_df )"
   ]
  },
  {
   "cell_type": "code",
   "execution_count": 16,
   "metadata": {},
   "outputs": [],
   "source": [
    "from sklearn.model_selection import train_test_split\n",
    "X_train, X_test, y_train, y_test = train_test_split(X, Y,  test_size = 0.7,  random_state = 100) "
   ]
  },
  {
   "cell_type": "code",
   "execution_count": 20,
   "metadata": {},
   "outputs": [
    {
     "name": "stdout",
     "output_type": "stream",
     "text": [
      "Optimization terminated successfully.\n",
      "         Current function value: 0.488024\n",
      "         Iterations 6\n"
     ]
    }
   ],
   "source": [
    "logis = sm.Logit(y_train, X_train)\n",
    "logis_model = logis.fit() "
   ]
  },
  {
   "cell_type": "code",
   "execution_count": 21,
   "metadata": {},
   "outputs": [
    {
     "data": {
      "text/html": [
       "<table class=\"simpletable\">\n",
       "<tr>\n",
       "        <td>Model:</td>              <td>Logit</td>      <td>Pseudo R-squared:</td>    <td>0.218</td>  \n",
       "</tr>\n",
       "<tr>\n",
       "  <td>Dependent Variable:</td>      <td>status</td>            <td>AIC:</td>         <td>340.8142</td> \n",
       "</tr>\n",
       "<tr>\n",
       "         <td>Date:</td>        <td>2020-08-25 16:09</td>       <td>BIC:</td>         <td>429.7050</td> \n",
       "</tr>\n",
       "<tr>\n",
       "   <td>No. Observations:</td>         <td>300</td>        <td>Log-Likelihood:</td>    <td>-146.41</td> \n",
       "</tr>\n",
       "<tr>\n",
       "       <td>Df Model:</td>             <td>23</td>            <td>LL-Null:</td>        <td>-187.30</td> \n",
       "</tr>\n",
       "<tr>\n",
       "     <td>Df Residuals:</td>           <td>276</td>         <td>LLR p-value:</td>    <td>1.6284e-08</td>\n",
       "</tr>\n",
       "<tr>\n",
       "      <td>Converged:</td>           <td>1.0000</td>           <td>Scale:</td>         <td>1.0000</td>  \n",
       "</tr>\n",
       "<tr>\n",
       "    <td>No. Iterations:</td>        <td>6.0000</td>              <td></td>               <td></td>     \n",
       "</tr>\n",
       "</table>\n",
       "<table class=\"simpletable\">\n",
       "<tr>\n",
       "            <td></td>             <th>Coef.</th>  <th>Std.Err.</th>    <th>z</th>     <th>P>|z|</th> <th>[0.025</th>  <th>0.975]</th> \n",
       "</tr>\n",
       "<tr>\n",
       "  <th>const</th>                 <td>2.8852</td>   <td>1.4025</td>  <td>2.0571</td>  <td>0.0397</td> <td>0.1363</td>  <td>5.6341</td> \n",
       "</tr>\n",
       "<tr>\n",
       "  <th>checkin_acc_A12</th>       <td>-0.5013</td>  <td>0.3879</td>  <td>-1.2925</td> <td>0.1962</td> <td>-1.2616</td> <td>0.2589</td> \n",
       "</tr>\n",
       "<tr>\n",
       "  <th>checkin_acc_A13</th>       <td>-2.1223</td>  <td>0.6728</td>  <td>-3.1543</td> <td>0.0016</td> <td>-3.4411</td> <td>-0.8036</td>\n",
       "</tr>\n",
       "<tr>\n",
       "  <th>checkin_acc_A14</th>       <td>-1.9826</td>  <td>0.4078</td>  <td>-4.8622</td> <td>0.0000</td> <td>-2.7818</td> <td>-1.1834</td>\n",
       "</tr>\n",
       "<tr>\n",
       "  <th>credit_history_A31</th>    <td>-0.4079</td>  <td>0.8777</td>  <td>-0.4647</td> <td>0.6421</td> <td>-2.1281</td> <td>1.3124</td> \n",
       "</tr>\n",
       "<tr>\n",
       "  <th>credit_history_A32</th>    <td>-0.5559</td>  <td>0.5857</td>  <td>-0.9491</td> <td>0.3426</td> <td>-1.7039</td> <td>0.5921</td> \n",
       "</tr>\n",
       "<tr>\n",
       "  <th>credit_history_A33</th>    <td>0.4801</td>   <td>0.7363</td>  <td>0.6521</td>  <td>0.5144</td> <td>-0.9630</td> <td>1.9233</td> \n",
       "</tr>\n",
       "<tr>\n",
       "  <th>credit_history_A34</th>    <td>-1.5389</td>  <td>0.6437</td>  <td>-2.3908</td> <td>0.0168</td> <td>-2.8005</td> <td>-0.2773</td>\n",
       "</tr>\n",
       "<tr>\n",
       "  <th>savings_acc_A62</th>       <td>0.4542</td>   <td>0.5472</td>  <td>0.8302</td>  <td>0.4065</td> <td>-0.6182</td> <td>1.5267</td> \n",
       "</tr>\n",
       "<tr>\n",
       "  <th>savings_acc_A63</th>       <td>0.6115</td>   <td>0.6519</td>  <td>0.9381</td>  <td>0.3482</td> <td>-0.6661</td> <td>1.8892</td> \n",
       "</tr>\n",
       "<tr>\n",
       "  <th>savings_acc_A64</th>       <td>-0.8416</td>  <td>0.7218</td>  <td>-1.1661</td> <td>0.2436</td> <td>-2.2563</td> <td>0.5730</td> \n",
       "</tr>\n",
       "<tr>\n",
       "  <th>savings_acc_A65</th>       <td>-0.3968</td>  <td>0.4272</td>  <td>-0.9287</td> <td>0.3530</td> <td>-1.2341</td> <td>0.4405</td> \n",
       "</tr>\n",
       "<tr>\n",
       "  <th>present_emp_since_A72</th> <td>1.0625</td>   <td>0.7962</td>  <td>1.3344</td>  <td>0.1821</td> <td>-0.4980</td> <td>2.6230</td> \n",
       "</tr>\n",
       "<tr>\n",
       "  <th>present_emp_since_A73</th> <td>1.3580</td>   <td>0.7791</td>  <td>1.7432</td>  <td>0.0813</td> <td>-0.1689</td> <td>2.8850</td> \n",
       "</tr>\n",
       "<tr>\n",
       "  <th>present_emp_since_A74</th> <td>0.6790</td>   <td>0.8069</td>  <td>0.8415</td>  <td>0.4001</td> <td>-0.9025</td> <td>2.2605</td> \n",
       "</tr>\n",
       "<tr>\n",
       "  <th>present_emp_since_A75</th> <td>1.3068</td>   <td>0.7962</td>  <td>1.6412</td>  <td>0.1008</td> <td>-0.2538</td> <td>2.8673</td> \n",
       "</tr>\n",
       "<tr>\n",
       "  <th>personal_status_A92</th>   <td>-1.0501</td>  <td>0.6191</td>  <td>-1.6961</td> <td>0.0899</td> <td>-2.2636</td> <td>0.1634</td> \n",
       "</tr>\n",
       "<tr>\n",
       "  <th>personal_status_A93</th>   <td>-0.3438</td>  <td>0.6004</td>  <td>-0.5725</td> <td>0.5670</td> <td>-1.5205</td> <td>0.8330</td> \n",
       "</tr>\n",
       "<tr>\n",
       "  <th>personal_status_A94</th>   <td>-0.9564</td>  <td>0.7621</td>  <td>-1.2549</td> <td>0.2095</td> <td>-2.4500</td> <td>0.5373</td> \n",
       "</tr>\n",
       "<tr>\n",
       "  <th>inst_plans_A142</th>       <td>0.7056</td>   <td>0.8574</td>  <td>0.8230</td>  <td>0.4105</td> <td>-0.9748</td> <td>2.3860</td> \n",
       "</tr>\n",
       "<tr>\n",
       "  <th>inst_plans_A143</th>       <td>-0.5579</td>  <td>0.4161</td>  <td>-1.3406</td> <td>0.1800</td> <td>-1.3735</td> <td>0.2577</td> \n",
       "</tr>\n",
       "<tr>\n",
       "  <th>job_A172</th>              <td>-2.7810</td>  <td>1.2326</td>  <td>-2.2562</td> <td>0.0241</td> <td>-5.1969</td> <td>-0.3651</td>\n",
       "</tr>\n",
       "<tr>\n",
       "  <th>job_A173</th>              <td>-2.1038</td>  <td>1.1828</td>  <td>-1.7786</td> <td>0.0753</td> <td>-4.4221</td> <td>0.2146</td> \n",
       "</tr>\n",
       "<tr>\n",
       "  <th>job_A174</th>              <td>-1.5120</td>  <td>1.1460</td>  <td>-1.3194</td> <td>0.1870</td> <td>-3.7581</td> <td>0.7341</td> \n",
       "</tr>\n",
       "</table>"
      ],
      "text/plain": [
       "<class 'statsmodels.iolib.summary2.Summary'>\n",
       "\"\"\"\n",
       "                           Results: Logit\n",
       "=====================================================================\n",
       "Model:                Logit             Pseudo R-squared:  0.218     \n",
       "Dependent Variable:   status            AIC:               340.8142  \n",
       "Date:                 2020-08-25 16:09  BIC:               429.7050  \n",
       "No. Observations:     300               Log-Likelihood:    -146.41   \n",
       "Df Model:             23                LL-Null:           -187.30   \n",
       "Df Residuals:         276               LLR p-value:       1.6284e-08\n",
       "Converged:            1.0000            Scale:             1.0000    \n",
       "No. Iterations:       6.0000                                         \n",
       "---------------------------------------------------------------------\n",
       "                       Coef.  Std.Err.    z    P>|z|   [0.025  0.975]\n",
       "---------------------------------------------------------------------\n",
       "const                  2.8852   1.4025  2.0571 0.0397  0.1363  5.6341\n",
       "checkin_acc_A12       -0.5013   0.3879 -1.2925 0.1962 -1.2616  0.2589\n",
       "checkin_acc_A13       -2.1223   0.6728 -3.1543 0.0016 -3.4411 -0.8036\n",
       "checkin_acc_A14       -1.9826   0.4078 -4.8622 0.0000 -2.7818 -1.1834\n",
       "credit_history_A31    -0.4079   0.8777 -0.4647 0.6421 -2.1281  1.3124\n",
       "credit_history_A32    -0.5559   0.5857 -0.9491 0.3426 -1.7039  0.5921\n",
       "credit_history_A33     0.4801   0.7363  0.6521 0.5144 -0.9630  1.9233\n",
       "credit_history_A34    -1.5389   0.6437 -2.3908 0.0168 -2.8005 -0.2773\n",
       "savings_acc_A62        0.4542   0.5472  0.8302 0.4065 -0.6182  1.5267\n",
       "savings_acc_A63        0.6115   0.6519  0.9381 0.3482 -0.6661  1.8892\n",
       "savings_acc_A64       -0.8416   0.7218 -1.1661 0.2436 -2.2563  0.5730\n",
       "savings_acc_A65       -0.3968   0.4272 -0.9287 0.3530 -1.2341  0.4405\n",
       "present_emp_since_A72  1.0625   0.7962  1.3344 0.1821 -0.4980  2.6230\n",
       "present_emp_since_A73  1.3580   0.7791  1.7432 0.0813 -0.1689  2.8850\n",
       "present_emp_since_A74  0.6790   0.8069  0.8415 0.4001 -0.9025  2.2605\n",
       "present_emp_since_A75  1.3068   0.7962  1.6412 0.1008 -0.2538  2.8673\n",
       "personal_status_A92   -1.0501   0.6191 -1.6961 0.0899 -2.2636  0.1634\n",
       "personal_status_A93   -0.3438   0.6004 -0.5725 0.5670 -1.5205  0.8330\n",
       "personal_status_A94   -0.9564   0.7621 -1.2549 0.2095 -2.4500  0.5373\n",
       "inst_plans_A142        0.7056   0.8574  0.8230 0.4105 -0.9748  2.3860\n",
       "inst_plans_A143       -0.5579   0.4161 -1.3406 0.1800 -1.3735  0.2577\n",
       "job_A172              -2.7810   1.2326 -2.2562 0.0241 -5.1969 -0.3651\n",
       "job_A173              -2.1038   1.1828 -1.7786 0.0753 -4.4221  0.2146\n",
       "job_A174              -1.5120   1.1460 -1.3194 0.1870 -3.7581  0.7341\n",
       "=====================================================================\n",
       "\n",
       "\"\"\""
      ]
     },
     "execution_count": 21,
     "metadata": {},
     "output_type": "execute_result"
    }
   ],
   "source": [
    "logis_model.summary2()"
   ]
  },
  {
   "cell_type": "code",
   "execution_count": 22,
   "metadata": {},
   "outputs": [
    {
     "data": {
      "text/plain": [
       "['const',\n",
       " 'checkin_acc_A13',\n",
       " 'checkin_acc_A14',\n",
       " 'credit_history_A34',\n",
       " 'job_A172']"
      ]
     },
     "execution_count": 22,
     "metadata": {},
     "output_type": "execute_result"
    }
   ],
   "source": [
    "def get_significant_vars( lm ):\n",
    "    var_p_vals_df = pd.DataFrame( lm.pvalues )\n",
    "    var_p_vals_df['vars'] = var_p_vals_df.index\n",
    "    var_p_vals_df.columns = ['pvals', 'vars']\n",
    "    return list( var_p_vals_df[var_p_vals_df.pvals <= 0.05]['vars'] )\n",
    "significant_vars = get_significant_vars( logis_model )\n",
    "significant_vars "
   ]
  },
  {
   "cell_type": "code",
   "execution_count": null,
   "metadata": {},
   "outputs": [],
   "source": []
  }
 ],
 "metadata": {
  "kernelspec": {
   "display_name": "Python 3",
   "language": "python",
   "name": "python3"
  },
  "language_info": {
   "codemirror_mode": {
    "name": "ipython",
    "version": 3
   },
   "file_extension": ".py",
   "mimetype": "text/x-python",
   "name": "python",
   "nbconvert_exporter": "python",
   "pygments_lexer": "ipython3",
   "version": "3.7.6"
  }
 },
 "nbformat": 4,
 "nbformat_minor": 4
}
