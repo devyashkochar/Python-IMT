{
 "cells": [
  {
   "cell_type": "code",
   "execution_count": 25,
   "metadata": {},
   "outputs": [
    {
     "name": "stdout",
     "output_type": "stream",
     "text": [
      "<class 'pandas.core.frame.DataFrame'>\n",
      "RangeIndex: 200 entries, 0 to 199\n",
      "Data columns (total 6 columns):\n",
      " #   Column     Non-Null Count  Dtype  \n",
      "---  ------     --------------  -----  \n",
      " 0   Sno        200 non-null    int64  \n",
      " 1   TV         199 non-null    float64\n",
      " 2   Radio      199 non-null    float64\n",
      " 3   Newspaper  199 non-null    float64\n",
      " 4   Day        197 non-null    object \n",
      " 5   Sales      200 non-null    float64\n",
      "dtypes: float64(4), int64(1), object(1)\n",
      "memory usage: 9.5+ KB\n"
     ]
    }
   ],
   "source": [
    "#Loading Libraries\n",
    "import pandas as pd\n",
    "import numpy as np\n",
    "\n",
    "advDataset = pd.read_csv(r'Advertising.csv') #Importing Dataset\n",
    "\n",
    "#Checking Datatype\n",
    "advDataset.info()"
   ]
  },
  {
   "cell_type": "code",
   "execution_count": 28,
   "metadata": {},
   "outputs": [
    {
     "data": {
      "text/plain": [
       "str"
      ]
     },
     "execution_count": 28,
     "metadata": {},
     "output_type": "execute_result"
    }
   ],
   "source": [
    "#Column \"Day\" is in object form and Pandas Dtype only has objecttype instead of str type\n",
    "\n",
    "type(advDataset['Day'][1]) #These Characters are in str format in as python datatype."
   ]
  },
  {
   "cell_type": "code",
   "execution_count": 37,
   "metadata": {},
   "outputs": [
    {
     "data": {
      "text/html": [
       "<div>\n",
       "<style scoped>\n",
       "    .dataframe tbody tr th:only-of-type {\n",
       "        vertical-align: middle;\n",
       "    }\n",
       "\n",
       "    .dataframe tbody tr th {\n",
       "        vertical-align: top;\n",
       "    }\n",
       "\n",
       "    .dataframe thead th {\n",
       "        text-align: right;\n",
       "    }\n",
       "</style>\n",
       "<table border=\"1\" class=\"dataframe\">\n",
       "  <thead>\n",
       "    <tr style=\"text-align: right;\">\n",
       "      <th></th>\n",
       "      <th>Sno</th>\n",
       "      <th>TV</th>\n",
       "      <th>Radio</th>\n",
       "      <th>Newspaper</th>\n",
       "      <th>Day</th>\n",
       "      <th>Sales</th>\n",
       "    </tr>\n",
       "  </thead>\n",
       "  <tbody>\n",
       "    <tr>\n",
       "      <th>68</th>\n",
       "      <td>69</td>\n",
       "      <td>NaN</td>\n",
       "      <td>27.5</td>\n",
       "      <td>11.0</td>\n",
       "      <td>NaN</td>\n",
       "      <td>12.8</td>\n",
       "    </tr>\n",
       "  </tbody>\n",
       "</table>\n",
       "</div>"
      ],
      "text/plain": [
       "    Sno  TV  Radio  Newspaper  Day  Sales\n",
       "68   69 NaN   27.5       11.0  NaN   12.8"
      ]
     },
     "execution_count": 37,
     "metadata": {},
     "output_type": "execute_result"
    }
   ],
   "source": [
    "#Identifing Nulls and NaN\n",
    "advDataset[advDataset.TV.isnull()] #Identifing Nulls and NaN in 'TV'"
   ]
  },
  {
   "cell_type": "code",
   "execution_count": 38,
   "metadata": {},
   "outputs": [
    {
     "data": {
      "text/html": [
       "<div>\n",
       "<style scoped>\n",
       "    .dataframe tbody tr th:only-of-type {\n",
       "        vertical-align: middle;\n",
       "    }\n",
       "\n",
       "    .dataframe tbody tr th {\n",
       "        vertical-align: top;\n",
       "    }\n",
       "\n",
       "    .dataframe thead th {\n",
       "        text-align: right;\n",
       "    }\n",
       "</style>\n",
       "<table border=\"1\" class=\"dataframe\">\n",
       "  <thead>\n",
       "    <tr style=\"text-align: right;\">\n",
       "      <th></th>\n",
       "      <th>Sno</th>\n",
       "      <th>TV</th>\n",
       "      <th>Radio</th>\n",
       "      <th>Newspaper</th>\n",
       "      <th>Day</th>\n",
       "      <th>Sales</th>\n",
       "    </tr>\n",
       "  </thead>\n",
       "  <tbody>\n",
       "    <tr>\n",
       "      <th>42</th>\n",
       "      <td>43</td>\n",
       "      <td>293.6</td>\n",
       "      <td>NaN</td>\n",
       "      <td>1.8</td>\n",
       "      <td>NaN</td>\n",
       "      <td>10.4</td>\n",
       "    </tr>\n",
       "  </tbody>\n",
       "</table>\n",
       "</div>"
      ],
      "text/plain": [
       "    Sno     TV  Radio  Newspaper  Day  Sales\n",
       "42   43  293.6    NaN        1.8  NaN   10.4"
      ]
     },
     "execution_count": 38,
     "metadata": {},
     "output_type": "execute_result"
    }
   ],
   "source": [
    "advDataset[advDataset.Radio.isnull()] #Identifing Nulls and NaN in 'Radio'"
   ]
  },
  {
   "cell_type": "code",
   "execution_count": 39,
   "metadata": {},
   "outputs": [
    {
     "data": {
      "text/html": [
       "<div>\n",
       "<style scoped>\n",
       "    .dataframe tbody tr th:only-of-type {\n",
       "        vertical-align: middle;\n",
       "    }\n",
       "\n",
       "    .dataframe tbody tr th {\n",
       "        vertical-align: top;\n",
       "    }\n",
       "\n",
       "    .dataframe thead th {\n",
       "        text-align: right;\n",
       "    }\n",
       "</style>\n",
       "<table border=\"1\" class=\"dataframe\">\n",
       "  <thead>\n",
       "    <tr style=\"text-align: right;\">\n",
       "      <th></th>\n",
       "      <th>Sno</th>\n",
       "      <th>TV</th>\n",
       "      <th>Radio</th>\n",
       "      <th>Newspaper</th>\n",
       "      <th>Day</th>\n",
       "      <th>Sales</th>\n",
       "    </tr>\n",
       "  </thead>\n",
       "  <tbody>\n",
       "    <tr>\n",
       "      <th>16</th>\n",
       "      <td>17</td>\n",
       "      <td>67.8</td>\n",
       "      <td>36.6</td>\n",
       "      <td>NaN</td>\n",
       "      <td>NaN</td>\n",
       "      <td>3.2</td>\n",
       "    </tr>\n",
       "  </tbody>\n",
       "</table>\n",
       "</div>"
      ],
      "text/plain": [
       "    Sno    TV  Radio  Newspaper  Day  Sales\n",
       "16   17  67.8   36.6        NaN  NaN    3.2"
      ]
     },
     "execution_count": 39,
     "metadata": {},
     "output_type": "execute_result"
    }
   ],
   "source": [
    "advDataset[advDataset.Newspaper.isnull()] #Identifing Nulls and NaN in 'Newspaper'"
   ]
  },
  {
   "cell_type": "code",
   "execution_count": 40,
   "metadata": {},
   "outputs": [
    {
     "data": {
      "text/html": [
       "<div>\n",
       "<style scoped>\n",
       "    .dataframe tbody tr th:only-of-type {\n",
       "        vertical-align: middle;\n",
       "    }\n",
       "\n",
       "    .dataframe tbody tr th {\n",
       "        vertical-align: top;\n",
       "    }\n",
       "\n",
       "    .dataframe thead th {\n",
       "        text-align: right;\n",
       "    }\n",
       "</style>\n",
       "<table border=\"1\" class=\"dataframe\">\n",
       "  <thead>\n",
       "    <tr style=\"text-align: right;\">\n",
       "      <th></th>\n",
       "      <th>Sno</th>\n",
       "      <th>TV</th>\n",
       "      <th>Radio</th>\n",
       "      <th>Newspaper</th>\n",
       "      <th>Day</th>\n",
       "      <th>Sales</th>\n",
       "    </tr>\n",
       "  </thead>\n",
       "  <tbody>\n",
       "    <tr>\n",
       "      <th>16</th>\n",
       "      <td>17</td>\n",
       "      <td>67.8</td>\n",
       "      <td>36.6</td>\n",
       "      <td>NaN</td>\n",
       "      <td>NaN</td>\n",
       "      <td>3.2</td>\n",
       "    </tr>\n",
       "    <tr>\n",
       "      <th>42</th>\n",
       "      <td>43</td>\n",
       "      <td>293.6</td>\n",
       "      <td>NaN</td>\n",
       "      <td>1.8</td>\n",
       "      <td>NaN</td>\n",
       "      <td>10.4</td>\n",
       "    </tr>\n",
       "    <tr>\n",
       "      <th>68</th>\n",
       "      <td>69</td>\n",
       "      <td>NaN</td>\n",
       "      <td>27.5</td>\n",
       "      <td>11.0</td>\n",
       "      <td>NaN</td>\n",
       "      <td>12.8</td>\n",
       "    </tr>\n",
       "  </tbody>\n",
       "</table>\n",
       "</div>"
      ],
      "text/plain": [
       "    Sno     TV  Radio  Newspaper  Day  Sales\n",
       "16   17   67.8   36.6        NaN  NaN    3.2\n",
       "42   43  293.6    NaN        1.8  NaN   10.4\n",
       "68   69    NaN   27.5       11.0  NaN   12.8"
      ]
     },
     "execution_count": 40,
     "metadata": {},
     "output_type": "execute_result"
    }
   ],
   "source": [
    "advDataset[advDataset.Day.isnull()] #Identifing Nulls and NaN in 'Day'"
   ]
  },
  {
   "cell_type": "code",
   "execution_count": 41,
   "metadata": {},
   "outputs": [
    {
     "data": {
      "text/html": [
       "<div>\n",
       "<style scoped>\n",
       "    .dataframe tbody tr th:only-of-type {\n",
       "        vertical-align: middle;\n",
       "    }\n",
       "\n",
       "    .dataframe tbody tr th {\n",
       "        vertical-align: top;\n",
       "    }\n",
       "\n",
       "    .dataframe thead th {\n",
       "        text-align: right;\n",
       "    }\n",
       "</style>\n",
       "<table border=\"1\" class=\"dataframe\">\n",
       "  <thead>\n",
       "    <tr style=\"text-align: right;\">\n",
       "      <th></th>\n",
       "      <th>Sno</th>\n",
       "      <th>TV</th>\n",
       "      <th>Radio</th>\n",
       "      <th>Newspaper</th>\n",
       "      <th>Day</th>\n",
       "      <th>Sales</th>\n",
       "    </tr>\n",
       "  </thead>\n",
       "  <tbody>\n",
       "  </tbody>\n",
       "</table>\n",
       "</div>"
      ],
      "text/plain": [
       "Empty DataFrame\n",
       "Columns: [Sno, TV, Radio, Newspaper, Day, Sales]\n",
       "Index: []"
      ]
     },
     "execution_count": 41,
     "metadata": {},
     "output_type": "execute_result"
    }
   ],
   "source": [
    "advDataset[advDataset.Sales.isnull()] #Identifing Nulls and NaN in 'Sales'"
   ]
  },
  {
   "cell_type": "code",
   "execution_count": 45,
   "metadata": {},
   "outputs": [
    {
     "name": "stdout",
     "output_type": "stream",
     "text": [
      "<class 'pandas.core.frame.DataFrame'>\n",
      "Int64Index: 197 entries, 0 to 199\n",
      "Data columns (total 6 columns):\n",
      " #   Column     Non-Null Count  Dtype  \n",
      "---  ------     --------------  -----  \n",
      " 0   Sno        197 non-null    int64  \n",
      " 1   TV         197 non-null    float64\n",
      " 2   Radio      197 non-null    float64\n",
      " 3   Newspaper  197 non-null    float64\n",
      " 4   Day        197 non-null    object \n",
      " 5   Sales      197 non-null    float64\n",
      "dtypes: float64(4), int64(1), object(1)\n",
      "memory usage: 10.8+ KB\n"
     ]
    }
   ],
   "source": [
    "#Count of Missing Values = 3 because comman rows in 'TV' , 'Newspaper' , 'Radios' is missing in 'Day'\n",
    "\n",
    "advDataset = advDataset.dropna() #Dropping NaN's\n",
    "advDataset.info() #Confirming Number"
   ]
  },
  {
   "cell_type": "code",
   "execution_count": 46,
   "metadata": {},
   "outputs": [
    {
     "data": {
      "text/plain": [
       "array(['Weekend', 'Weekdays', 'Holiday'], dtype=object)"
      ]
     },
     "execution_count": 46,
     "metadata": {},
     "output_type": "execute_result"
    }
   ],
   "source": [
    "#Encoding Categorical Variables which is under Days Column\n",
    "advDataset.Day.unique()"
   ]
  },
  {
   "cell_type": "code",
   "execution_count": 77,
   "metadata": {},
   "outputs": [
    {
     "data": {
      "text/plain": [
       "Index(['TV', 'Radio', 'Newspaper', 'Day_Weekdays', 'Day_Weekend'], dtype='object')"
      ]
     },
     "execution_count": 77,
     "metadata": {},
     "output_type": "execute_result"
    }
   ],
   "source": [
    "xColumns = ['TV','Radio','Newspaper','Day'] #Saving all columns\n",
    "catColumns = ['Day']          #Saving Categorical Columns\n",
    "encodeAdv = pd.get_dummies(advDataset[xColumns], columns = catColumns, drop_first=True) #Replacing Columns 'Holiday' is dropped\n",
    "encodeAdv.columns"
   ]
  },
  {
   "cell_type": "code",
   "execution_count": 79,
   "metadata": {},
   "outputs": [
    {
     "data": {
      "text/html": [
       "<div>\n",
       "<style scoped>\n",
       "    .dataframe tbody tr th:only-of-type {\n",
       "        vertical-align: middle;\n",
       "    }\n",
       "\n",
       "    .dataframe tbody tr th {\n",
       "        vertical-align: top;\n",
       "    }\n",
       "\n",
       "    .dataframe thead th {\n",
       "        text-align: right;\n",
       "    }\n",
       "</style>\n",
       "<table border=\"1\" class=\"dataframe\">\n",
       "  <thead>\n",
       "    <tr style=\"text-align: right;\">\n",
       "      <th></th>\n",
       "      <th>Sno</th>\n",
       "      <th>TV</th>\n",
       "      <th>Radio</th>\n",
       "      <th>Newspaper</th>\n",
       "      <th>Sales</th>\n",
       "    </tr>\n",
       "  </thead>\n",
       "  <tbody>\n",
       "    <tr>\n",
       "      <th>count</th>\n",
       "      <td>197.000000</td>\n",
       "      <td>197.000000</td>\n",
       "      <td>197.000000</td>\n",
       "      <td>197.000000</td>\n",
       "      <td>197.000000</td>\n",
       "    </tr>\n",
       "    <tr>\n",
       "      <th>mean</th>\n",
       "      <td>101.375635</td>\n",
       "      <td>146.242132</td>\n",
       "      <td>23.152284</td>\n",
       "      <td>30.375635</td>\n",
       "      <td>14.102030</td>\n",
       "    </tr>\n",
       "    <tr>\n",
       "      <th>std</th>\n",
       "      <td>57.818691</td>\n",
       "      <td>85.439138</td>\n",
       "      <td>14.922793</td>\n",
       "      <td>20.972370</td>\n",
       "      <td>5.192302</td>\n",
       "    </tr>\n",
       "    <tr>\n",
       "      <th>min</th>\n",
       "      <td>1.000000</td>\n",
       "      <td>0.700000</td>\n",
       "      <td>0.000000</td>\n",
       "      <td>0.300000</td>\n",
       "      <td>1.600000</td>\n",
       "    </tr>\n",
       "    <tr>\n",
       "      <th>25%</th>\n",
       "      <td>52.000000</td>\n",
       "      <td>74.700000</td>\n",
       "      <td>9.900000</td>\n",
       "      <td>12.900000</td>\n",
       "      <td>10.400000</td>\n",
       "    </tr>\n",
       "    <tr>\n",
       "      <th>50%</th>\n",
       "      <td>102.000000</td>\n",
       "      <td>149.700000</td>\n",
       "      <td>22.300000</td>\n",
       "      <td>25.900000</td>\n",
       "      <td>12.900000</td>\n",
       "    </tr>\n",
       "    <tr>\n",
       "      <th>75%</th>\n",
       "      <td>151.000000</td>\n",
       "      <td>218.400000</td>\n",
       "      <td>36.500000</td>\n",
       "      <td>45.100000</td>\n",
       "      <td>17.400000</td>\n",
       "    </tr>\n",
       "    <tr>\n",
       "      <th>max</th>\n",
       "      <td>200.000000</td>\n",
       "      <td>296.400000</td>\n",
       "      <td>49.600000</td>\n",
       "      <td>100.900000</td>\n",
       "      <td>27.000000</td>\n",
       "    </tr>\n",
       "  </tbody>\n",
       "</table>\n",
       "</div>"
      ],
      "text/plain": [
       "              Sno          TV       Radio   Newspaper       Sales\n",
       "count  197.000000  197.000000  197.000000  197.000000  197.000000\n",
       "mean   101.375635  146.242132   23.152284   30.375635   14.102030\n",
       "std     57.818691   85.439138   14.922793   20.972370    5.192302\n",
       "min      1.000000    0.700000    0.000000    0.300000    1.600000\n",
       "25%     52.000000   74.700000    9.900000   12.900000   10.400000\n",
       "50%    102.000000  149.700000   22.300000   25.900000   12.900000\n",
       "75%    151.000000  218.400000   36.500000   45.100000   17.400000\n",
       "max    200.000000  296.400000   49.600000  100.900000   27.000000"
      ]
     },
     "execution_count": 79,
     "metadata": {},
     "output_type": "execute_result"
    }
   ],
   "source": [
    "#Desciptive Summary for all Variable together. For individual Summary, use 'encodeAdv.columnName.describe()'\n",
    "advDataset.describe()"
   ]
  },
  {
   "cell_type": "code",
   "execution_count": 81,
   "metadata": {},
   "outputs": [
    {
     "data": {
      "text/html": [
       "<div>\n",
       "<style scoped>\n",
       "    .dataframe tbody tr th:only-of-type {\n",
       "        vertical-align: middle;\n",
       "    }\n",
       "\n",
       "    .dataframe tbody tr th {\n",
       "        vertical-align: top;\n",
       "    }\n",
       "\n",
       "    .dataframe thead th {\n",
       "        text-align: right;\n",
       "    }\n",
       "</style>\n",
       "<table border=\"1\" class=\"dataframe\">\n",
       "  <thead>\n",
       "    <tr style=\"text-align: right;\">\n",
       "      <th></th>\n",
       "      <th>TV</th>\n",
       "      <th>Radio</th>\n",
       "      <th>Newspaper</th>\n",
       "      <th>Day_Weekdays</th>\n",
       "      <th>Day_Weekend</th>\n",
       "    </tr>\n",
       "  </thead>\n",
       "  <tbody>\n",
       "    <tr>\n",
       "      <th>count</th>\n",
       "      <td>197.000000</td>\n",
       "      <td>197.000000</td>\n",
       "      <td>197.000000</td>\n",
       "      <td>197.000000</td>\n",
       "      <td>197.000000</td>\n",
       "    </tr>\n",
       "    <tr>\n",
       "      <th>mean</th>\n",
       "      <td>146.242132</td>\n",
       "      <td>23.152284</td>\n",
       "      <td>30.375635</td>\n",
       "      <td>0.766497</td>\n",
       "      <td>0.213198</td>\n",
       "    </tr>\n",
       "    <tr>\n",
       "      <th>std</th>\n",
       "      <td>85.439138</td>\n",
       "      <td>14.922793</td>\n",
       "      <td>20.972370</td>\n",
       "      <td>0.424137</td>\n",
       "      <td>0.410610</td>\n",
       "    </tr>\n",
       "    <tr>\n",
       "      <th>min</th>\n",
       "      <td>0.700000</td>\n",
       "      <td>0.000000</td>\n",
       "      <td>0.300000</td>\n",
       "      <td>0.000000</td>\n",
       "      <td>0.000000</td>\n",
       "    </tr>\n",
       "    <tr>\n",
       "      <th>25%</th>\n",
       "      <td>74.700000</td>\n",
       "      <td>9.900000</td>\n",
       "      <td>12.900000</td>\n",
       "      <td>1.000000</td>\n",
       "      <td>0.000000</td>\n",
       "    </tr>\n",
       "    <tr>\n",
       "      <th>50%</th>\n",
       "      <td>149.700000</td>\n",
       "      <td>22.300000</td>\n",
       "      <td>25.900000</td>\n",
       "      <td>1.000000</td>\n",
       "      <td>0.000000</td>\n",
       "    </tr>\n",
       "    <tr>\n",
       "      <th>75%</th>\n",
       "      <td>218.400000</td>\n",
       "      <td>36.500000</td>\n",
       "      <td>45.100000</td>\n",
       "      <td>1.000000</td>\n",
       "      <td>0.000000</td>\n",
       "    </tr>\n",
       "    <tr>\n",
       "      <th>max</th>\n",
       "      <td>296.400000</td>\n",
       "      <td>49.600000</td>\n",
       "      <td>100.900000</td>\n",
       "      <td>1.000000</td>\n",
       "      <td>1.000000</td>\n",
       "    </tr>\n",
       "  </tbody>\n",
       "</table>\n",
       "</div>"
      ],
      "text/plain": [
       "               TV       Radio   Newspaper  Day_Weekdays  Day_Weekend\n",
       "count  197.000000  197.000000  197.000000    197.000000   197.000000\n",
       "mean   146.242132   23.152284   30.375635      0.766497     0.213198\n",
       "std     85.439138   14.922793   20.972370      0.424137     0.410610\n",
       "min      0.700000    0.000000    0.300000      0.000000     0.000000\n",
       "25%     74.700000    9.900000   12.900000      1.000000     0.000000\n",
       "50%    149.700000   22.300000   25.900000      1.000000     0.000000\n",
       "75%    218.400000   36.500000   45.100000      1.000000     0.000000\n",
       "max    296.400000   49.600000  100.900000      1.000000     1.000000"
      ]
     },
     "execution_count": 81,
     "metadata": {},
     "output_type": "execute_result"
    }
   ],
   "source": [
    "encodeAdv.describe() #including Days and Excluding Sales"
   ]
  },
  {
   "cell_type": "markdown",
   "metadata": {},
   "source": [
    "# Visualisation"
   ]
  },
  {
   "cell_type": "code",
   "execution_count": 84,
   "metadata": {},
   "outputs": [
    {
     "data": {
      "image/png": "[encoded data removed]",
      "text/plain": [
       "<Figure size 432x288 with 1 Axes>"
      ]
     },
     "metadata": {
      "needs_background": "light"
     },
     "output_type": "display_data"
    }
   ],
   "source": [
    "#importing Libraries\n",
    "\n",
    "import matplotlib.pyplot as plt\n",
    "import seaborn as sn\n",
    "#Makes sure that the graph is drawn beneath the code\n",
    "%matplotlib inline \n",
    "\n",
    "sn.barplot(x = 'Day', y = 'Sales', data = advDataset);  #code for bargraph"
   ]
  },
  {
   "cell_type": "markdown",
   "metadata": {},
   "source": [
    "Represents that the difference between the sales wrt to Day is very less. However, the confidence level varies."
   ]
  },
  {
   "cell_type": "code",
   "execution_count": 85,
   "metadata": {},
   "outputs": [
    {
     "data": {
      "image/png": "[encoded data removed]",
      "text/plain": [
       "<Figure size 432x288 with 1 Axes>"
      ]
     },
     "metadata": {
      "needs_background": "light"
     },
     "output_type": "display_data"
    }
   ],
   "source": [
    "sn.boxplot(advDataset['Sales']); #Code of BoxPlot"
   ]
  },
  {
   "cell_type": "markdown",
   "metadata": {},
   "source": [
    "There are no Outliers"
   ]
  },
  {
   "cell_type": "markdown",
   "metadata": {},
   "source": [
    "# Spliting the Dataset into Train:Test = 70:30"
   ]
  },
  {
   "cell_type": "code",
   "execution_count": 169,
   "metadata": {},
   "outputs": [],
   "source": [
    "#importing libraries\n",
    "from sklearn.model_selection import train_test_split\n",
    "import statsmodels.api as sm\n",
    "\n",
    "X = sm.add_constant(encodeAdv)    #adding constant to the dataset and copying the set to X\n",
    "Y = advDataset['Sales']           #Copying the Sales to Y\n",
    "\n",
    "#Spliting the dataset, 0.7 represents 70:30 ratio, 81 is seed for the randomisation\n",
    "train_X, test_X, train_y, test_y = train_test_split( X ,Y,train_size = 0.7,random_state = 81 )"
   ]
  },
  {
   "cell_type": "markdown",
   "metadata": {},
   "source": [
    "# Building Model"
   ]
  },
  {
   "cell_type": "code",
   "execution_count": 170,
   "metadata": {},
   "outputs": [
    {
     "data": {
      "text/html": [
       "<table class=\"simpletable\">\n",
       "<tr>\n",
       "        <td>Model:</td>               <td>OLS</td>         <td>Adj. R-squared:</td>    <td>-0.013</td> \n",
       "</tr>\n",
       "<tr>\n",
       "  <td>Dependent Variable:</td>       <td>Sales</td>             <td>AIC:</td>         <td>823.5269</td>\n",
       "</tr>\n",
       "<tr>\n",
       "         <td>Date:</td>        <td>2020-08-12 19:22</td>        <td>BIC:</td>         <td>838.1268</td>\n",
       "</tr>\n",
       "<tr>\n",
       "   <td>No. Observations:</td>         <td>137</td>         <td>Log-Likelihood:</td>    <td>-406.76</td>\n",
       "</tr>\n",
       "<tr>\n",
       "       <td>Df Model:</td>              <td>4</td>           <td>F-statistic:</td>      <td>0.5602</td> \n",
       "</tr>\n",
       "<tr>\n",
       "     <td>Df Residuals:</td>           <td>132</td>       <td>Prob (F-statistic):</td>   <td>0.692</td> \n",
       "</tr>\n",
       "<tr>\n",
       "      <td>R-squared:</td>            <td>0.017</td>            <td>Scale:</td>         <td>23.045</td> \n",
       "</tr>\n",
       "</table>\n",
       "<table class=\"simpletable\">\n",
       "<tr>\n",
       "        <td></td>        <th>Coef.</th>  <th>Std.Err.</th>    <th>t</th>     <th>P>|t|</th> <th>[0.025</th>  <th>0.975]</th> \n",
       "</tr>\n",
       "<tr>\n",
       "  <th>const</th>        <td>8.5776</td>   <td>1.0314</td>  <td>8.3167</td>  <td>0.0000</td> <td>6.5374</td>  <td>10.6177</td>\n",
       "</tr>\n",
       "<tr>\n",
       "  <th>TV</th>           <td>0.0066</td>   <td>0.0065</td>  <td>1.0184</td>  <td>0.3103</td> <td>-0.0062</td> <td>0.0195</td> \n",
       "</tr>\n",
       "<tr>\n",
       "  <th>Radio</th>        <td>0.0056</td>   <td>0.0292</td>  <td>0.1925</td>  <td>0.8476</td> <td>-0.0522</td> <td>0.0634</td> \n",
       "</tr>\n",
       "<tr>\n",
       "  <th>Newspaper</th>    <td>-0.0212</td>  <td>0.0207</td>  <td>-1.0248</td> <td>0.3073</td> <td>-0.0622</td> <td>0.0198</td> \n",
       "</tr>\n",
       "<tr>\n",
       "  <th>Day_Weekdays</th> <td>4.7365</td>   <td>0.4883</td>  <td>9.6995</td>  <td>0.0000</td> <td>3.7706</td>  <td>5.7025</td> \n",
       "</tr>\n",
       "<tr>\n",
       "  <th>Day_Weekend</th>  <td>3.8410</td>   <td>1.1091</td>  <td>3.4633</td>  <td>0.0007</td> <td>1.6472</td>  <td>6.0349</td> \n",
       "</tr>\n",
       "</table>\n",
       "<table class=\"simpletable\">\n",
       "<tr>\n",
       "     <td>Omnibus:</td>    <td>5.539</td>  <td>Durbin-Watson:</td>          <td>1.987</td>       \n",
       "</tr>\n",
       "<tr>\n",
       "  <td>Prob(Omnibus):</td> <td>0.063</td> <td>Jarque-Bera (JB):</td>        <td>5.638</td>       \n",
       "</tr>\n",
       "<tr>\n",
       "       <td>Skew:</td>     <td>0.471</td>     <td>Prob(JB):</td>            <td>0.060</td>       \n",
       "</tr>\n",
       "<tr>\n",
       "     <td>Kurtosis:</td>   <td>2.681</td>  <td>Condition No.:</td>   <td>1469057289137641472</td>\n",
       "</tr>\n",
       "</table>"
      ],
      "text/plain": [
       "<class 'statsmodels.iolib.summary2.Summary'>\n",
       "\"\"\"\n",
       "                 Results: Ordinary least squares\n",
       "=================================================================\n",
       "Model:              OLS              Adj. R-squared:     -0.013  \n",
       "Dependent Variable: Sales            AIC:                823.5269\n",
       "Date:               2020-08-12 19:22 BIC:                838.1268\n",
       "No. Observations:   137              Log-Likelihood:     -406.76 \n",
       "Df Model:           4                F-statistic:        0.5602  \n",
       "Df Residuals:       132              Prob (F-statistic): 0.692   \n",
       "R-squared:          0.017            Scale:              23.045  \n",
       "------------------------------------------------------------------\n",
       "               Coef.   Std.Err.     t     P>|t|    [0.025   0.975]\n",
       "------------------------------------------------------------------\n",
       "const          8.5776    1.0314   8.3167  0.0000   6.5374  10.6177\n",
       "TV             0.0066    0.0065   1.0184  0.3103  -0.0062   0.0195\n",
       "Radio          0.0056    0.0292   0.1925  0.8476  -0.0522   0.0634\n",
       "Newspaper     -0.0212    0.0207  -1.0248  0.3073  -0.0622   0.0198\n",
       "Day_Weekdays   4.7365    0.4883   9.6995  0.0000   3.7706   5.7025\n",
       "Day_Weekend    3.8410    1.1091   3.4633  0.0007   1.6472   6.0349\n",
       "-----------------------------------------------------------------\n",
       "Omnibus:          5.539   Durbin-Watson:      1.987              \n",
       "Prob(Omnibus):    0.063   Jarque-Bera (JB):   5.638              \n",
       "Skew:             0.471   Prob(JB):           0.060              \n",
       "Kurtosis:         2.681   Condition No.:      1469057289137641472\n",
       "=================================================================\n",
       "* The condition number is large (1e+18). This might indicate\n",
       "strong multicollinearity or other numerical problems.\n",
       "\"\"\""
      ]
     },
     "execution_count": 170,
     "metadata": {},
     "output_type": "execute_result"
    }
   ],
   "source": [
    "advModelOne = sm.OLS(train_y,train_X).fit()\n",
    "advModelOne.summary2()"
   ]
  },
  {
   "cell_type": "markdown",
   "metadata": {},
   "source": [
    "R-squared says only 1.7% is explained. Adj-R-sqaured is negative. Prob(F-stat) is greater than 0.05, and the model is not a good fit. Significant Variables are Days_Weekdays and Days_Weekends only. We need to improve model by removing variables"
   ]
  },
  {
   "cell_type": "markdown",
   "metadata": {},
   "source": [
    "### Multi-Collinearity"
   ]
  },
  {
   "cell_type": "code",
   "execution_count": 171,
   "metadata": {},
   "outputs": [],
   "source": [
    "xColumns = encodeAdv.columns #Saving Columns of Dependent Variable"
   ]
  },
  {
   "cell_type": "code",
   "execution_count": 172,
   "metadata": {},
   "outputs": [],
   "source": [
    "from statsmodels.stats.outliers_influence import variance_inflation_factor             #importing Package\n",
    "def get_vif_factors( X ):                                                              #Func to calculate Variance\n",
    "    vif = [ variance_inflation_factor( X.values, i ) for i in range( X.shape[1] ) ]    #Loop to calculate Variance\n",
    "    vif_factors = pd.DataFrame()                                                       #Creating DataFrame for Display\n",
    "    vif_factors['column'] = X.columns                                                  #Creating Column for columns Names\n",
    "    vif_factors['vif'] = vif                                                           #Adding respective VIF\n",
    "    return vif_factors                                                                 #Return DataFrame"
   ]
  },
  {
   "cell_type": "code",
   "execution_count": 173,
   "metadata": {},
   "outputs": [
    {
     "data": {
      "text/html": [
       "<div>\n",
       "<style scoped>\n",
       "    .dataframe tbody tr th:only-of-type {\n",
       "        vertical-align: middle;\n",
       "    }\n",
       "\n",
       "    .dataframe tbody tr th {\n",
       "        vertical-align: top;\n",
       "    }\n",
       "\n",
       "    .dataframe thead th {\n",
       "        text-align: right;\n",
       "    }\n",
       "</style>\n",
       "<table border=\"1\" class=\"dataframe\">\n",
       "  <thead>\n",
       "    <tr style=\"text-align: right;\">\n",
       "      <th></th>\n",
       "      <th>column</th>\n",
       "      <th>vif</th>\n",
       "    </tr>\n",
       "  </thead>\n",
       "  <tbody>\n",
       "    <tr>\n",
       "      <th>0</th>\n",
       "      <td>TV</td>\n",
       "      <td>5.972512</td>\n",
       "    </tr>\n",
       "    <tr>\n",
       "      <th>1</th>\n",
       "      <td>Radio</td>\n",
       "      <td>3.930583</td>\n",
       "    </tr>\n",
       "    <tr>\n",
       "      <th>2</th>\n",
       "      <td>Newspaper</td>\n",
       "      <td>3.499641</td>\n",
       "    </tr>\n",
       "    <tr>\n",
       "      <th>3</th>\n",
       "      <td>Day_Weekdays</td>\n",
       "      <td>4.513938</td>\n",
       "    </tr>\n",
       "    <tr>\n",
       "      <th>4</th>\n",
       "      <td>Day_Weekend</td>\n",
       "      <td>4.048673</td>\n",
       "    </tr>\n",
       "  </tbody>\n",
       "</table>\n",
       "</div>"
      ],
      "text/plain": [
       "         column       vif\n",
       "0            TV  5.972512\n",
       "1         Radio  3.930583\n",
       "2     Newspaper  3.499641\n",
       "3  Day_Weekdays  4.513938\n",
       "4   Day_Weekend  4.048673"
      ]
     },
     "execution_count": 173,
     "metadata": {},
     "output_type": "execute_result"
    }
   ],
   "source": [
    "vif_factors = get_vif_factors( X[xColumns] )    #Calling func\n",
    "vif_factors                                     #Printing DataFrame"
   ]
  },
  {
   "cell_type": "code",
   "execution_count": 174,
   "metadata": {},
   "outputs": [
    {
     "data": {
      "text/plain": [
       "0              TV\n",
       "3    Day_Weekdays\n",
       "4     Day_Weekend\n",
       "Name: column, dtype: object"
      ]
     },
     "execution_count": 174,
     "metadata": {},
     "output_type": "execute_result"
    }
   ],
   "source": [
    "highVIF = vif_factors[vif_factors.vif > 4].column #finding columns with high vif and are correlated\n",
    "highVIF #printing"
   ]
  },
  {
   "cell_type": "code",
   "execution_count": 175,
   "metadata": {},
   "outputs": [],
   "source": [
    "columnsToDelete = ['TV','Day_Weekend','Day_Weekdays'] #Columns to be deleted"
   ]
  },
  {
   "cell_type": "code",
   "execution_count": 176,
   "metadata": {},
   "outputs": [
    {
     "data": {
      "text/html": [
       "<div>\n",
       "<style scoped>\n",
       "    .dataframe tbody tr th:only-of-type {\n",
       "        vertical-align: middle;\n",
       "    }\n",
       "\n",
       "    .dataframe tbody tr th {\n",
       "        vertical-align: top;\n",
       "    }\n",
       "\n",
       "    .dataframe thead th {\n",
       "        text-align: right;\n",
       "    }\n",
       "</style>\n",
       "<table border=\"1\" class=\"dataframe\">\n",
       "  <thead>\n",
       "    <tr style=\"text-align: right;\">\n",
       "      <th></th>\n",
       "      <th>column</th>\n",
       "      <th>vif</th>\n",
       "    </tr>\n",
       "  </thead>\n",
       "  <tbody>\n",
       "    <tr>\n",
       "      <th>0</th>\n",
       "      <td>Radio</td>\n",
       "      <td>2.804843</td>\n",
       "    </tr>\n",
       "    <tr>\n",
       "      <th>1</th>\n",
       "      <td>Newspaper</td>\n",
       "      <td>2.804843</td>\n",
       "    </tr>\n",
       "  </tbody>\n",
       "</table>\n",
       "</div>"
      ],
      "text/plain": [
       "      column       vif\n",
       "0      Radio  2.804843\n",
       "1  Newspaper  2.804843"
      ]
     },
     "execution_count": 176,
     "metadata": {},
     "output_type": "execute_result"
    }
   ],
   "source": [
    "xNewColumns = list(set(xColumns)-set(columnsToDelete)) #Removing columns\n",
    "get_vif_factors(X[xNewColumns])                        #Checking New VIF"
   ]
  },
  {
   "cell_type": "code",
   "execution_count": 196,
   "metadata": {},
   "outputs": [
    {
     "data": {
      "text/html": [
       "<table class=\"simpletable\">\n",
       "<tr>\n",
       "          <td>Model:</td>                 <td>OLS</td>       <td>Adj. R-squared (uncentered):</td>   <td>0.672</td> \n",
       "</tr>\n",
       "<tr>\n",
       "    <td>Dependent Variable:</td>         <td>Sales</td>                  <td>AIC:</td>             <td>968.7716</td>\n",
       "</tr>\n",
       "<tr>\n",
       "           <td>Date:</td>          <td>2020-08-12 19:35</td>             <td>BIC:</td>             <td>974.6116</td>\n",
       "</tr>\n",
       "<tr>\n",
       "     <td>No. Observations:</td>           <td>137</td>              <td>Log-Likelihood:</td>        <td>-482.39</td>\n",
       "</tr>\n",
       "<tr>\n",
       "         <td>Df Model:</td>                <td>2</td>                <td>F-statistic:</td>           <td>141.4</td> \n",
       "</tr>\n",
       "<tr>\n",
       "       <td>Df Residuals:</td>             <td>135</td>            <td>Prob (F-statistic):</td>     <td>7.67e-34</td>\n",
       "</tr>\n",
       "<tr>\n",
       "  <td>R-squared (uncentered):</td>       <td>0.677</td>                 <td>Scale:</td>             <td>67.963</td> \n",
       "</tr>\n",
       "</table>\n",
       "<table class=\"simpletable\">\n",
       "<tr>\n",
       "      <td></td>       <th>Coef.</th> <th>Std.Err.</th>    <th>t</th>    <th>P>|t|</th> <th>[0.025</th> <th>0.975]</th>\n",
       "</tr>\n",
       "<tr>\n",
       "  <th>Radio</th>     <td>0.2781</td>  <td>0.0409</td>  <td>6.7925</td> <td>0.0000</td> <td>0.1971</td> <td>0.3591</td>\n",
       "</tr>\n",
       "<tr>\n",
       "  <th>Newspaper</th> <td>0.1307</td>  <td>0.0310</td>  <td>4.2166</td> <td>0.0000</td> <td>0.0694</td> <td>0.1920</td>\n",
       "</tr>\n",
       "</table>\n",
       "<table class=\"simpletable\">\n",
       "<tr>\n",
       "     <td>Omnibus:</td>     <td>1.437</td>  <td>Durbin-Watson:</td>   <td>1.704</td>\n",
       "</tr>\n",
       "<tr>\n",
       "  <td>Prob(Omnibus):</td>  <td>0.488</td> <td>Jarque-Bera (JB):</td> <td>1.246</td>\n",
       "</tr>\n",
       "<tr>\n",
       "       <td>Skew:</td>     <td>-0.051</td>     <td>Prob(JB):</td>     <td>0.536</td>\n",
       "</tr>\n",
       "<tr>\n",
       "     <td>Kurtosis:</td>    <td>2.544</td>  <td>Condition No.:</td>     <td>3</td>  \n",
       "</tr>\n",
       "</table>"
      ],
      "text/plain": [
       "<class 'statsmodels.iolib.summary2.Summary'>\n",
       "\"\"\"\n",
       "                       Results: Ordinary least squares\n",
       "==============================================================================\n",
       "Model:                  OLS              Adj. R-squared (uncentered): 0.672   \n",
       "Dependent Variable:     Sales            AIC:                         968.7716\n",
       "Date:                   2020-08-12 19:35 BIC:                         974.6116\n",
       "No. Observations:       137              Log-Likelihood:              -482.39 \n",
       "Df Model:               2                F-statistic:                 141.4   \n",
       "Df Residuals:           135              Prob (F-statistic):          7.67e-34\n",
       "R-squared (uncentered): 0.677            Scale:                       67.963  \n",
       "-----------------------------------------------------------------------------------\n",
       "               Coef.       Std.Err.        t         P>|t|       [0.025      0.975]\n",
       "-----------------------------------------------------------------------------------\n",
       "Radio          0.2781        0.0409      6.7925      0.0000      0.1971      0.3591\n",
       "Newspaper      0.1307        0.0310      4.2166      0.0000      0.0694      0.1920\n",
       "------------------------------------------------------------------------------\n",
       "Omnibus:                  1.437             Durbin-Watson:               1.704\n",
       "Prob(Omnibus):            0.488             Jarque-Bera (JB):            1.246\n",
       "Skew:                     -0.051            Prob(JB):                    0.536\n",
       "Kurtosis:                 2.544             Condition No.:               3    \n",
       "==============================================================================\n",
       "\n",
       "\"\"\""
      ]
     },
     "execution_count": 196,
     "metadata": {},
     "output_type": "execute_result"
    }
   ],
   "source": [
    "#VIF are less than 4, running new model\n",
    "\n",
    "train_X=train_X[xNewColumns]                 #Changing to new columns only\n",
    "advModelTwo = sm.OLS(train_y,train_X).fit()  #Running the new model\n",
    "advModelTwo.summary2()                       #Display the summary"
   ]
  },
  {
   "cell_type": "markdown",
   "metadata": {},
   "source": [
    "New Model has Adj.R.sqr explains 67.2% model. 70% is required. Prob(F-Stat) is less than 0.05 which shows that model is a very good fit."
   ]
  },
  {
   "cell_type": "markdown",
   "metadata": {},
   "source": [
    "# Residual Analysis"
   ]
  },
  {
   "cell_type": "code",
   "execution_count": 197,
   "metadata": {},
   "outputs": [
    {
     "data": {
      "image/png": "[encoded data removed]",
      "text/plain": [
       "<Figure size 432x288 with 1 Axes>"
      ]
     },
     "metadata": {
      "needs_background": "light"
     },
     "output_type": "display_data"
    }
   ],
   "source": [
    "#Libraries are already imported\n",
    "probPlot = sm.ProbPlot(advModelTwo.resid); # Returns Residual ie difference between observed and fitted values.\n",
    "probPlot.ppplot(line='45');                # Sets the Normal line to 45 degree\n",
    "plt.title(\"PPPlot for residual analysis for Regression model\") #Sets the title of Graph\n",
    "plt.show() #Used to show Plot Residual vs Normal Distribution"
   ]
  },
  {
   "cell_type": "markdown",
   "metadata": {},
   "source": [
    "The points are not close to the red line which shows that the errors are not distributed normally."
   ]
  },
  {
   "cell_type": "markdown",
   "metadata": {},
   "source": [
    "### Scatter Plot of Residual Analysis"
   ]
  },
  {
   "cell_type": "code",
   "execution_count": 198,
   "metadata": {},
   "outputs": [],
   "source": [
    "def getStandVals( vals ):          #Defining Function to calculate Std Values\n",
    "    return (vals - vals.mean())/vals.std()    #Return Statement"
   ]
  },
  {
   "cell_type": "code",
   "execution_count": 199,
   "metadata": {},
   "outputs": [
    {
     "data": {
      "image/png": "[encoded data removed]",
      "text/plain": [
       "<Figure size 432x288 with 1 Axes>"
      ]
     },
     "metadata": {
      "needs_background": "light"
     },
     "output_type": "display_data"
    }
   ],
   "source": [
    "plt.scatter(getStandVals(advModelTwo.fittedvalues),getStandVals(advModelTwo.resid)) #Generate Scatter plt errors vs prediction\n",
    "plt.title(\"Scatter Plot\") #Set title\n",
    "plt.xlabel(\"Predicted\")   #X-Axis Title\n",
    "plt.ylabel(\"Residuals\")   #Y-Axis Title\n",
    "plt.show()                #Show Graph"
   ]
  },
  {
   "cell_type": "markdown",
   "metadata": {},
   "source": [
    "Not Parallel Line - Heteroscedasticity - Residuals doesnt have constant variance"
   ]
  },
  {
   "cell_type": "markdown",
   "metadata": {},
   "source": [
    "# Outlier Analysis"
   ]
  },
  {
   "cell_type": "code",
   "execution_count": 200,
   "metadata": {},
   "outputs": [
    {
     "data": {
      "text/html": [
       "<div>\n",
       "<style scoped>\n",
       "    .dataframe tbody tr th:only-of-type {\n",
       "        vertical-align: middle;\n",
       "    }\n",
       "\n",
       "    .dataframe tbody tr th {\n",
       "        vertical-align: top;\n",
       "    }\n",
       "\n",
       "    .dataframe thead th {\n",
       "        text-align: right;\n",
       "    }\n",
       "</style>\n",
       "<table border=\"1\" class=\"dataframe\">\n",
       "  <thead>\n",
       "    <tr style=\"text-align: right;\">\n",
       "      <th></th>\n",
       "      <th>Sno</th>\n",
       "      <th>TV</th>\n",
       "      <th>Radio</th>\n",
       "      <th>Newspaper</th>\n",
       "      <th>Day</th>\n",
       "      <th>Sales</th>\n",
       "      <th>zScoreSales</th>\n",
       "    </tr>\n",
       "  </thead>\n",
       "  <tbody>\n",
       "  </tbody>\n",
       "</table>\n",
       "</div>"
      ],
      "text/plain": [
       "Empty DataFrame\n",
       "Columns: [Sno, TV, Radio, Newspaper, Day, Sales, zScoreSales]\n",
       "Index: []"
      ]
     },
     "execution_count": 200,
     "metadata": {},
     "output_type": "execute_result"
    }
   ],
   "source": [
    "from scipy.stats import zscore  #importing package to calculate z-score\n",
    "advDataset['zScoreSales'] = zscore(advDataset.Sales) #Adding new Column 'zScoreSales' and putting z-scores for outlier\n",
    "advDataset[(advDataset.zScoreSales>3.0)|(advDataset.zScoreSales<-3)] #Printing Outliers with zscore of > 3 or < -3"
   ]
  },
  {
   "cell_type": "markdown",
   "metadata": {},
   "source": [
    "No Outliers Found from Z-Score"
   ]
  },
  {
   "cell_type": "code",
   "execution_count": 201,
   "metadata": {},
   "outputs": [
    {
     "data": {
      "image/png": "[encoded data removed]",
      "text/plain": [
       "<Figure size 576x432 with 1 Axes>"
      ]
     },
     "metadata": {
      "needs_background": "light"
     },
     "output_type": "display_data"
    }
   ],
   "source": [
    "#Leverage for Finding Influencing observations\n",
    "\n",
    "from statsmodels.graphics.regressionplots import influence_plot #impoting package\n",
    "fig, ax = plt.subplots( figsize=(8,6) )   #Set the size\n",
    "influence_plot( advModelTwo, ax = ax )    #making influence plot\n",
    "plt.title( \"Leverage and Residuals\")      #Setting title\n",
    "plt.show();                               #Showing Graph"
   ]
  },
  {
   "cell_type": "markdown",
   "metadata": {},
   "source": [
    "Leverage Value of More than 3(k+1)/n ie 3(2+1)/137 = 0.065 approx. Hence, observations at 101 and 165 should be removed"
   ]
  },
  {
   "cell_type": "code",
   "execution_count": 202,
   "metadata": {},
   "outputs": [
    {
     "data": {
      "text/html": [
       "<div>\n",
       "<style scoped>\n",
       "    .dataframe tbody tr th:only-of-type {\n",
       "        vertical-align: middle;\n",
       "    }\n",
       "\n",
       "    .dataframe tbody tr th {\n",
       "        vertical-align: top;\n",
       "    }\n",
       "\n",
       "    .dataframe thead th {\n",
       "        text-align: right;\n",
       "    }\n",
       "</style>\n",
       "<table border=\"1\" class=\"dataframe\">\n",
       "  <thead>\n",
       "    <tr style=\"text-align: right;\">\n",
       "      <th></th>\n",
       "      <th>Sno</th>\n",
       "      <th>TV</th>\n",
       "      <th>Radio</th>\n",
       "      <th>Newspaper</th>\n",
       "      <th>Day</th>\n",
       "      <th>Sales</th>\n",
       "      <th>zScoreSales</th>\n",
       "    </tr>\n",
       "  </thead>\n",
       "  <tbody>\n",
       "    <tr>\n",
       "      <th>101</th>\n",
       "      <td>102</td>\n",
       "      <td>296.4</td>\n",
       "      <td>36.3</td>\n",
       "      <td>100.9</td>\n",
       "      <td>Weekend</td>\n",
       "      <td>22.1</td>\n",
       "      <td>1.544276</td>\n",
       "    </tr>\n",
       "    <tr>\n",
       "      <th>165</th>\n",
       "      <td>166</td>\n",
       "      <td>234.5</td>\n",
       "      <td>3.4</td>\n",
       "      <td>84.8</td>\n",
       "      <td>Weekend</td>\n",
       "      <td>25.4</td>\n",
       "      <td>2.181452</td>\n",
       "    </tr>\n",
       "  </tbody>\n",
       "</table>\n",
       "</div>"
      ],
      "text/plain": [
       "     Sno     TV  Radio  Newspaper      Day  Sales  zScoreSales\n",
       "101  102  296.4   36.3      100.9  Weekend   22.1     1.544276\n",
       "165  166  234.5    3.4       84.8  Weekend   25.4     2.181452"
      ]
     },
     "execution_count": 202,
     "metadata": {},
     "output_type": "execute_result"
    }
   ],
   "source": [
    "advDataset[advDataset.index.isin([101,165])] #Printing the observations that needs to be removed"
   ]
  },
  {
   "cell_type": "code",
   "execution_count": 203,
   "metadata": {},
   "outputs": [],
   "source": [
    "newTrainX = train_X.drop( [101, 165], axis = 0) #Dropping observation from x-axis\n",
    "newTrainY = train_y.drop( [101, 165], axis = 0) #Dropping observation from y-axis"
   ]
  },
  {
   "cell_type": "code",
   "execution_count": 204,
   "metadata": {},
   "outputs": [
    {
     "data": {
      "text/html": [
       "<table class=\"simpletable\">\n",
       "<tr>\n",
       "          <td>Model:</td>                 <td>OLS</td>       <td>Adj. R-squared (uncentered):</td>   <td>0.666</td> \n",
       "</tr>\n",
       "<tr>\n",
       "    <td>Dependent Variable:</td>         <td>Sales</td>                  <td>AIC:</td>             <td>953.7379</td>\n",
       "</tr>\n",
       "<tr>\n",
       "           <td>Date:</td>          <td>2020-08-12 19:36</td>             <td>BIC:</td>             <td>959.5485</td>\n",
       "</tr>\n",
       "<tr>\n",
       "     <td>No. Observations:</td>           <td>135</td>              <td>Log-Likelihood:</td>        <td>-474.87</td>\n",
       "</tr>\n",
       "<tr>\n",
       "         <td>Df Model:</td>                <td>2</td>                <td>F-statistic:</td>           <td>135.4</td> \n",
       "</tr>\n",
       "<tr>\n",
       "       <td>Df Residuals:</td>             <td>133</td>            <td>Prob (F-statistic):</td>     <td>8.40e-33</td>\n",
       "</tr>\n",
       "<tr>\n",
       "  <td>R-squared (uncentered):</td>       <td>0.671</td>                 <td>Scale:</td>             <td>67.501</td> \n",
       "</tr>\n",
       "</table>\n",
       "<table class=\"simpletable\">\n",
       "<tr>\n",
       "      <td></td>       <th>Coef.</th> <th>Std.Err.</th>    <th>t</th>    <th>P>|t|</th> <th>[0.025</th> <th>0.975]</th>\n",
       "</tr>\n",
       "<tr>\n",
       "  <th>Radio</th>     <td>0.2951</td>  <td>0.0424</td>  <td>6.9596</td> <td>0.0000</td> <td>0.2112</td> <td>0.3790</td>\n",
       "</tr>\n",
       "<tr>\n",
       "  <th>Newspaper</th> <td>0.1138</td>  <td>0.0335</td>  <td>3.3962</td> <td>0.0009</td> <td>0.0475</td> <td>0.1801</td>\n",
       "</tr>\n",
       "</table>\n",
       "<table class=\"simpletable\">\n",
       "<tr>\n",
       "     <td>Omnibus:</td>     <td>1.478</td>  <td>Durbin-Watson:</td>   <td>1.691</td>\n",
       "</tr>\n",
       "<tr>\n",
       "  <td>Prob(Omnibus):</td>  <td>0.478</td> <td>Jarque-Bera (JB):</td> <td>1.247</td>\n",
       "</tr>\n",
       "<tr>\n",
       "       <td>Skew:</td>     <td>-0.023</td>     <td>Prob(JB):</td>     <td>0.536</td>\n",
       "</tr>\n",
       "<tr>\n",
       "     <td>Kurtosis:</td>    <td>2.531</td>  <td>Condition No.:</td>     <td>3</td>  \n",
       "</tr>\n",
       "</table>"
      ],
      "text/plain": [
       "<class 'statsmodels.iolib.summary2.Summary'>\n",
       "\"\"\"\n",
       "                       Results: Ordinary least squares\n",
       "==============================================================================\n",
       "Model:                  OLS              Adj. R-squared (uncentered): 0.666   \n",
       "Dependent Variable:     Sales            AIC:                         953.7379\n",
       "Date:                   2020-08-12 19:36 BIC:                         959.5485\n",
       "No. Observations:       135              Log-Likelihood:              -474.87 \n",
       "Df Model:               2                F-statistic:                 135.4   \n",
       "Df Residuals:           133              Prob (F-statistic):          8.40e-33\n",
       "R-squared (uncentered): 0.671            Scale:                       67.501  \n",
       "-----------------------------------------------------------------------------------\n",
       "               Coef.       Std.Err.        t         P>|t|       [0.025      0.975]\n",
       "-----------------------------------------------------------------------------------\n",
       "Radio          0.2951        0.0424      6.9596      0.0000      0.2112      0.3790\n",
       "Newspaper      0.1138        0.0335      3.3962      0.0009      0.0475      0.1801\n",
       "------------------------------------------------------------------------------\n",
       "Omnibus:                  1.478             Durbin-Watson:               1.691\n",
       "Prob(Omnibus):            0.478             Jarque-Bera (JB):            1.247\n",
       "Skew:                     -0.023            Prob(JB):                    0.536\n",
       "Kurtosis:                 2.531             Condition No.:               3    \n",
       "==============================================================================\n",
       "\n",
       "\"\"\""
      ]
     },
     "execution_count": 204,
     "metadata": {},
     "output_type": "execute_result"
    }
   ],
   "source": [
    "advModelThree = sm.OLS(newTrainY,newTrainX).fit()  #Running the new model\n",
    "advModelThree.summary2()"
   ]
  },
  {
   "cell_type": "markdown",
   "metadata": {},
   "source": [
    "# Testing Model"
   ]
  },
  {
   "cell_type": "code",
   "execution_count": 205,
   "metadata": {},
   "outputs": [],
   "source": [
    "predY = np.power( advModelThree.predict( test_X[newTrainX.columns] ), 2) #Saving Predicted Value in predY"
   ]
  },
  {
   "cell_type": "code",
   "execution_count": 213,
   "metadata": {},
   "outputs": [
    {
     "data": {
      "text/plain": [
       "187.44579038081832"
      ]
     },
     "execution_count": 213,
     "metadata": {},
     "output_type": "execute_result"
    }
   ],
   "source": [
    "#RMSE For Validation\n",
    "from sklearn import metrics\n",
    "np.sqrt(metrics.mean_squared_error(predY, test_y))"
   ]
  },
  {
   "cell_type": "markdown",
   "metadata": {},
   "source": [
    "# Manual Calculation"
   ]
  },
  {
   "cell_type": "code",
   "execution_count": 211,
   "metadata": {},
   "outputs": [
    {
     "data": {
      "text/html": [
       "<div>\n",
       "<style scoped>\n",
       "    .dataframe tbody tr th:only-of-type {\n",
       "        vertical-align: middle;\n",
       "    }\n",
       "\n",
       "    .dataframe tbody tr th {\n",
       "        vertical-align: top;\n",
       "    }\n",
       "\n",
       "    .dataframe thead th {\n",
       "        text-align: right;\n",
       "    }\n",
       "</style>\n",
       "<table border=\"1\" class=\"dataframe\">\n",
       "  <thead>\n",
       "    <tr style=\"text-align: right;\">\n",
       "      <th></th>\n",
       "      <th>Sno</th>\n",
       "      <th>TV</th>\n",
       "      <th>Radio</th>\n",
       "      <th>Newspaper</th>\n",
       "      <th>Day</th>\n",
       "      <th>Sales</th>\n",
       "      <th>zScoreSales</th>\n",
       "    </tr>\n",
       "  </thead>\n",
       "  <tbody>\n",
       "    <tr>\n",
       "      <th>1</th>\n",
       "      <td>2</td>\n",
       "      <td>44.5</td>\n",
       "      <td>39.3</td>\n",
       "      <td>45.1</td>\n",
       "      <td>Weekdays</td>\n",
       "      <td>8.0</td>\n",
       "      <td>-1.178201</td>\n",
       "    </tr>\n",
       "  </tbody>\n",
       "</table>\n",
       "</div>"
      ],
      "text/plain": [
       "   Sno    TV  Radio  Newspaper       Day  Sales  zScoreSales\n",
       "1    2  44.5   39.3       45.1  Weekdays    8.0    -1.178201"
      ]
     },
     "execution_count": 211,
     "metadata": {},
     "output_type": "execute_result"
    }
   ],
   "source": [
    "advDataset[1:2] #picking one Data"
   ]
  },
  {
   "cell_type": "markdown",
   "metadata": {},
   "source": [
    "Model 1 - Equation --> Sales = 8.57 + 0.0066*TV + 0.0056*Radio - 0.0212*Newspaper + 4.7365*Day_Weekday + 3.841*Day_Weekend"
   ]
  },
  {
   "cell_type": "code",
   "execution_count": 214,
   "metadata": {},
   "outputs": [
    {
     "data": {
      "text/plain": [
       "12.864159999999998"
      ]
     },
     "execution_count": 214,
     "metadata": {},
     "output_type": "execute_result"
    }
   ],
   "source": [
    "8.57+0.0066*44.5+0.0056*39.3-0.0212*45.1+4.7365"
   ]
  },
  {
   "cell_type": "markdown",
   "metadata": {},
   "source": [
    "Model 2 - Equation --> Sales = 0.2951Radio + 0.1138Newspaper"
   ]
  },
  {
   "cell_type": "code",
   "execution_count": 222,
   "metadata": {},
   "outputs": [
    {
     "data": {
      "text/plain": [
       "16.729809999999997"
      ]
     },
     "execution_count": 222,
     "metadata": {},
     "output_type": "execute_result"
    }
   ],
   "source": [
    "0.2951*39.3 + 0.1138*45.1"
   ]
  },
  {
   "cell_type": "code",
   "execution_count": null,
   "metadata": {},
   "outputs": [],
   "source": []
  },
  {
   "cell_type": "code",
   "execution_count": null,
   "metadata": {},
   "outputs": [],
   "source": []
  }
 ],
 "metadata": {
  "kernelspec": {
   "display_name": "Python 3",
   "language": "python",
   "name": "python3"
  },
  "language_info": {
   "codemirror_mode": {
    "name": "ipython",
    "version": 3
   },
   "file_extension": ".py",
   "mimetype": "text/x-python",
   "name": "python",
   "nbconvert_exporter": "python",
   "pygments_lexer": "ipython3",
   "version": "3.7.6"
  }
 },
 "nbformat": 4,
 "nbformat_minor": 4
}
